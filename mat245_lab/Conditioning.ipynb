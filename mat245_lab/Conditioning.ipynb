{
 "cells": [
  {
   "cell_type": "markdown",
   "metadata": {},
   "source": [
    "# Illconditioned matrices"
   ]
  },
  {
   "cell_type": "code",
   "execution_count": 27,
   "metadata": {
    "collapsed": false
   },
   "outputs": [
    {
     "data": {
      "text/plain": [
       "array([[ 1.        ,  0.5       ,  0.33333333],\n",
       "       [ 0.5       ,  0.33333333,  0.25      ],\n",
       "       [ 0.33333333,  0.25      ,  0.2       ]])"
      ]
     },
     "execution_count": 27,
     "metadata": {},
     "output_type": "execute_result"
    }
   ],
   "source": [
    "import numpy as np\n",
    "import matplotlib.pyplot as plt\n",
    "%matplotlib inline\n",
    "\n",
    "# the function that returns a Hilbert Matrix\n",
    "def Hilbert(n):\n",
    "    matrix = np.zeros((n,n))\n",
    "    for i in range(1, n+1):\n",
    "        for j in range(1, n+1):\n",
    "            matrix[i-1][j-1]= 1/float(j + i -1)\n",
    "    return matrix\n",
    "        \n",
    "Hilbert(3)"
   ]
  },
  {
   "cell_type": "code",
   "execution_count": 28,
   "metadata": {
    "collapsed": false
   },
   "outputs": [
    {
     "data": {
      "text/plain": [
       "19.281470067903967"
      ]
     },
     "execution_count": 28,
     "metadata": {},
     "output_type": "execute_result"
    }
   ],
   "source": [
    "def Krel(ndarray):\n",
    "    U,s,V = np.linalg.svd(ndarray)\n",
    "    sigMax = max(s)\n",
    "    sigMin = min(s)\n",
    "    return sigMax/sigMin\n",
    "Krel(Hilbert(2))"
   ]
  },
  {
   "cell_type": "code",
   "execution_count": 4,
   "metadata": {
    "collapsed": false
   },
   "outputs": [
    {
     "name": "stdout",
     "output_type": "stream",
     "text": [
      "1.60250281681e+13\n",
      "2.49595175001e+17\n",
      "2.10653055807e+18\n",
      "1.89342450283e+19\n"
     ]
    }
   ],
   "source": [
    "# you can check if they are match on http://www-an.acs.i.kyoto-u.ac.jp/~fujiwara/server/hilbert20.html\n",
    "# it's not when i > 10, maybe due to numerical issues\n",
    "for i in [10, 15, 20, 25]:\n",
    "    print Krel(Hilbert(i))"
   ]
  },
  {
   "cell_type": "code",
   "execution_count": 29,
   "metadata": {
    "collapsed": false
   },
   "outputs": [
    {
     "data": {
      "text/plain": [
       "[<matplotlib.lines.Line2D at 0x95fdd68>]"
      ]
     },
     "execution_count": 29,
     "metadata": {},
     "output_type": "execute_result"
    },
    {
     "data": {
      "image/png": "[encoded data removed]",
      "text/plain": [
       "<matplotlib.figure.Figure at 0x4dfdbe0>"
      ]
     },
     "metadata": {},
     "output_type": "display_data"
    }
   ],
   "source": [
    "# plot the condition number of first 10 Hilbert matrix\n",
    "r = range(1, 11)\n",
    "plt.yscale(\"log\")\n",
    "plt.plot(r, [Krel(Hilbert(i)) for i in r])"
   ]
  },
  {
   "cell_type": "code",
   "execution_count": 6,
   "metadata": {
    "collapsed": false
   },
   "outputs": [
    {
     "name": "stdout",
     "output_type": "stream",
     "text": [
      "129494.238574\n",
      "117066.680093\n",
      "21.0930311302\n",
      "50.6849991768\n"
     ]
    }
   ],
   "source": [
    "# direct get inv and dot multiply together\n",
    "r = 20\n",
    "t0 = np.random.rand(r)\n",
    "t1 = np.random.rand(r)\n",
    "\n",
    "print np.linalg.norm (np.linalg.inv(Hilbert(r)).dot(Hilbert(r)).dot(t0) - t0)\n",
    "print np.linalg.norm (np.linalg.inv(Hilbert(r)).dot(Hilbert(r)).dot(t1) - t1)\n",
    "\n",
    "# solve an equation\n",
    "b0 = Hilbert(r).dot(t0)\n",
    "b1 = Hilbert(r).dot(t1)\n",
    "\n",
    "print np.linalg.norm (np.linalg.solve(Hilbert(r), b0) - t0)\n",
    "print np.linalg.norm (np.linalg.solve(Hilbert(r), b1) - t1)\n"
   ]
  },
  {
   "cell_type": "markdown",
   "metadata": {},
   "source": [
    "# Numerical issue in computing the variance"
   ]
  },
  {
   "cell_type": "code",
   "execution_count": 31,
   "metadata": {
    "collapsed": false
   },
   "outputs": [
    {
     "name": "stdout",
     "output_type": "stream",
     "text": [
      "9.80514878376e-15\n",
      "9.80514878376e-15\n",
      "1.16415321827e-14\n",
      "0.0\n",
      "0.187287662781\n"
     ]
    }
   ],
   "source": [
    "# the second one is \n",
    "def var1(v):\n",
    "    ave = float(np.sum(v))/v.size\n",
    "    Ave = np.ones(v.size)*ave\n",
    "    return np.sum((v - Ave)*(v - Ave))/(v.size )\n",
    "def var2(v):\n",
    "    ave = float(np.sum(v))/v.size\n",
    "    Ave = np.ones(v.size)*ave\n",
    "    return (np.sum(v*v)-v.size*ave*ave)/(v.size)\n",
    "\n",
    "\n",
    "test = np.random.normal(3, 0.0000001, 10000)\n",
    "\n",
    "print np.var(test)\n",
    "print var1(test)\n",
    "print var2(test)\n",
    "\n",
    "print (var1(test)-np.var(test))/np.var(test)\n",
    "print (var2(test)-np.var(test))/np.var(test)"
   ]
  },
  {
   "cell_type": "markdown",
   "metadata": {},
   "source": [
    "# Approx Exp"
   ]
  },
  {
   "cell_type": "code",
   "execution_count": 26,
   "metadata": {
    "collapsed": false
   },
   "outputs": [
    {
     "name": "stdout",
     "output_type": "stream",
     "text": [
      "2.71827876984\n",
      "\n",
      "5: \n",
      "  a: \n",
      "-20.9169270833\n",
      "  b: \n",
      "0.00772665353404\n",
      "  c: \n",
      "0.00408740827006\n",
      "actual: 0.00408677143846\n",
      "\n",
      "10: \n",
      "  a: \n",
      "2.37768445454\n",
      "  b: \n",
      "0.00419264086335\n",
      "  c: \n",
      "0.00408677143881\n",
      "actual: 0.00408677143846\n",
      "\n",
      "15: \n",
      "  a: \n",
      "-0.0211445741022\n",
      "  b: \n",
      "0.00408758964264\n",
      "  c: \n",
      "0.00408677143846\n",
      "actual: 0.00408677143846\n"
     ]
    }
   ],
   "source": [
    "import math\n",
    "def factorial(n):return reduce(lambda x,y:x*y,[1]+range(1,n+1))\n",
    "def Exp(x, N):\n",
    "    r = range(0, N+1)\n",
    "    pows = np.array([ float(np.power(x, i)) /factorial(i) for i in r]) \n",
    "    return np.sum(pows);\n",
    "\n",
    "print Exp(1,8)\n",
    "\n",
    "for i in [5,10,15]:\n",
    "    print \"\"\n",
    "    print str(i) + \": \"\n",
    "    print \"  a: \" \n",
    "    print Exp(-5.5,i)\n",
    "    print \"  b: \"\n",
    "    print 1/Exp(5.5, i)\n",
    "    print \"  c: \"\n",
    "    print np.power(Exp(0.5, i), -11)\n",
    "    print \"actual: \" + str(math.exp(-5.5))\n"
   ]
  },
  {
   "cell_type": "code",
   "execution_count": null,
   "metadata": {
    "collapsed": true
   },
   "outputs": [],
   "source": []
  }
 ],
 "metadata": {
  "kernelspec": {
   "display_name": "Python 2",
   "language": "python",
   "name": "python2"
  },
  "language_info": {
   "codemirror_mode": {
    "name": "ipython",
    "version": 2
   },
   "file_extension": ".py",
   "mimetype": "text/x-python",
   "name": "python",
   "nbconvert_exporter": "python",
   "pygments_lexer": "ipython2",
   "version": "2.7.13"
  }
 },
 "nbformat": 4,
 "nbformat_minor": 2
}
