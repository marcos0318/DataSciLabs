{
 "cells": [
  {
   "cell_type": "code",
   "execution_count": 98,
   "metadata": {
    "collapsed": true
   },
   "outputs": [],
   "source": [
    "import numpy as np\n",
    "from scipy.stats import expon\n",
    "from scipy.stats import laplace\n",
    "from scipy.stats import norm\n",
    "from scipy.stats import cauchy\n",
    "import matplotlib.pyplot as plt"
   ]
  },
  {
   "cell_type": "markdown",
   "metadata": {},
   "source": [
    "# Lab Assignment 7\n",
    "\n",
    "## Random variables with prescribed CDFs\n",
    "\n",
    "Suppose $X : \\Omega \\to \\mathbb{R}$ is a random variable. The cumulative distribution function (CDF) of $X$ is the function $F_X : \\mathbb{R} \\to [0, 1]$ defined by \n",
    "\n",
    "$$\n",
    "  F_X(t) = \\mathbb{P}(X \\leq t) = \\mathbb{P}(\\{x : X(x) \\leq t \\}).\n",
    "$$\n",
    "\n",
    "If $F : \\mathbb{R} \\to [0, 1]$ is any monotonically increasing function, it is possible to contruct a random variable $X : [0, 1] \\to \\mathbb{R}$ that has $F$ as its CDF. To see this, let's set\n",
    "\n",
    "$$\n",
    "X(x) = F^{-1}(x)\n",
    "$$\n",
    "\n",
    "and check that the CDF of $X$ is $F$. We compute\n",
    "\n",
    "$$\n",
    "\\begin{align*}\n",
    "\\mathbb{P}(X \\leq t) \n",
    "  &= \n",
    "\\mathbb{P}(F^{-1}(x) \\leq t) \\\\\n",
    "  &= \n",
    "\\mathbb{P}(x \\leq F(t)) \\\\\n",
    "  &= \n",
    "F(t) - 0 \\\\\n",
    "  &=\n",
    "F(t).\n",
    "\\end{align*}\n",
    "$$\n",
    "\n",
    "We can use this to construct random variables with arbitrary density functions. Indeed, once $u \\sim \\mathrm{unif}[0, 1]$ is a uniform random variable in $[0, 1]$, then $F^{-1} \\circ u$ is a random variable taking values in $\\mathbb{R}$ with $F$ as its CDF.\n",
    "\n",
    "### Example (Exponential Distribtion)\n",
    "\n",
    "The exponential distribution $f(x; \\lambda)$ and its CDF $F(x;\\lambda)$ are given by\n",
    "\n",
    "$$\n",
    "f(x; \\lambda) = \n",
    "\\begin{cases}\n",
    "  \\lambda e^{-\\lambda x} &\\quad \\text{if } x \\geq 0 \\\\\n",
    "  0 &\\quad \\text{otherwise}\n",
    "\\end{cases}\n",
    "\\quad\n",
    "\\text{and}\n",
    "\\quad\n",
    "F(x; \\lambda) = \n",
    "\\begin{cases}\n",
    "  1 - e^{-\\lambda x} &\\quad \\text{if } x \\geq 0 \\\\\n",
    "  0 &\\quad \\text{otherwise}\n",
    "\\end{cases}\n",
    "$$\n",
    "respectively. The graphs of $f(x;0)$ and $F(x;0)$ are plotted below:"
   ]
  },
  {
   "cell_type": "code",
   "execution_count": 80,
   "metadata": {
    "collapsed": false
   },
   "outputs": [
    {
     "data": {
      "image/png": "[encoded data removed]",
      "text/plain": [
       "<matplotlib.figure.Figure at 0xdb560f0>"
      ]
     },
     "metadata": {},
     "output_type": "display_data"
    }
   ],
   "source": [
    "fig = plt.figure(figsize=(12, 5))\n",
    "\n",
    "xs = np.linspace(expon.ppf(0.01), expon.ppf(0.99), 100)\n",
    "ys_f = expon.pdf(xs)\n",
    "ys_F = expon.cdf(xs)\n",
    "\n",
    "ax1 = fig.add_subplot(1, 2, 1)\n",
    "ax1.plot(xs, ys_f)\n",
    "\n",
    "ax2 = fig.add_subplot(1, 2, 2)\n",
    "ax2.plot(xs, ys_F)\n",
    "\n",
    "plt.show()"
   ]
  },
  {
   "cell_type": "markdown",
   "metadata": {},
   "source": [
    "If we invert the function $F(x;\\lambda)$ we get\n",
    "\n",
    "$$\n",
    "F^{-1}(y;\\lambda) = - \\frac{1}{\\lambda} \\log(1 - y).\n",
    "$$\n",
    "\n",
    "It follows from our analysis above that if $u$ ~ $\\mathrm{unif}[0, 1]$ then $F^{-1} \\circ u$ is distributed like $f(x;\\lambda)$.\n",
    "\n",
    "### Goals (1)\n",
    " \n",
    "- Write a `python` implementation of the function $F^{-1}(y;\\lambda)$.\n",
    "- Use `numpy.random.uniform` to generate a vector of samples from $\\mathrm{unif}[0,1]$ (1000 samples should be enough). \n",
    "- Use this vector, your implementation of $F^{-1}$, and the formulas above to obtain a new vector of samples drawn from the exponential distribution (with $\\lambda = 1$).\n",
    "- Plot a histogram of your samples and compare it with the graph of the probability density function for the exponential distribution.(See `matplotlib.pyplot.hist`). It's useful to plot the histogram and the graph on the same chart. Use the `normed=True` parameter to this `hist` function to correctly scale the axes.  "
   ]
  },
  {
   "cell_type": "code",
   "execution_count": 81,
   "metadata": {
    "collapsed": false
   },
   "outputs": [
    {
     "data": {
      "image/png": "[encoded data removed]",
      "text/plain": [
       "<matplotlib.figure.Figure at 0xccf5400>"
      ]
     },
     "metadata": {},
     "output_type": "display_data"
    }
   ],
   "source": [
    "def expon_inv(y, Lambda):\n",
    "    return -(1/float(Lambda))*np.log(1-y)\n",
    "# unit test\n",
    "# F_inv(expon.cdf(5),1) \n",
    "\n",
    "# sampling\n",
    "vec = np.random.uniform(0, 1, 1000)\n",
    "\n",
    "# you should nvver use for loop in the python code, because it is slow\n",
    "# but if you use it in numpy, it is fast, it is in c\n",
    "# samples = [ expon_inv(x, 1) for x in vec]\n",
    "samples = expon_inv(vec, 1)\n",
    "\n",
    "# plots\n",
    "xs = np.array(range(0, 700))\n",
    "xs = xs * 0.01\n",
    "ys = expon.pdf(xs)\n",
    "plt.hist(samples, 50, normed=True)\n",
    "plt.plot(xs, ys, 'r')\n",
    "plt.show()\n"
   ]
  },
  {
   "cell_type": "markdown",
   "metadata": {},
   "source": [
    "### Examples (Laplace Distribution)\n",
    "\n",
    "A random variable is Laplace distributed if its probability distribution function is\n",
    "\n",
    "\\begin{align}\n",
    "f(x ~|~ \\mu, b)\n",
    "  &=\n",
    "\\frac{1}{2b} \\exp\\left( - \\frac{|x - \\mu|}{b} \\right) \\\\\n",
    "  &=\n",
    "\\frac{1}{2b} \n",
    "\\begin{cases}\n",
    "\\exp \\left(- \\frac{\\mu - x}{b} \\right) \\quad &\\text{if } x < \\mu \\\\\n",
    "\\exp \\left(- \\frac{x - \\mu}{b} \\right) \\quad &\\text{if } x \\geq \\mu\n",
    "\\end{cases}\n",
    "\\end{align}.\n",
    "\n",
    "Here, $\\mu$ is called the location parameter and $b > 0$ is called the diversity. The CDF of a Laplace random variable is\n",
    "\n",
    "$$\n",
    "F(x ~|~ \\mu, b) = \\frac{1}{2} + \\frac{1}{2} ~\\mathrm{sgn}(x - \\mu) \\left(1 - \\exp \\left( - \\frac{|x - \\mu|}{b}\\right)\\right).\n",
    "$$\n",
    "\n",
    "If we invert this, we get\n",
    "\n",
    "$$\n",
    "F^{-1}(y ~|~ \\mu, b) = \\mu - b~\\mathrm{sgn}(y - 0.5) \\log(1 - 2 ~|y - 0.5|).\n",
    "$$\n",
    "\n",
    "### Goals (2)\n",
    "\n",
    "- Write a `python` implementation of $F^{-1}(y ~|~ \\mu, b)$.\n",
    "- Repeat the steps above to plot a histogram of samples from the Laplace distribution and compare it to the Laplace PDF. "
   ]
  },
  {
   "cell_type": "code",
   "execution_count": 82,
   "metadata": {
    "collapsed": false
   },
   "outputs": [
    {
     "data": {
      "image/png": "[encoded data removed]",
      "text/plain": [
       "<matplotlib.figure.Figure at 0xc034da0>"
      ]
     },
     "metadata": {},
     "output_type": "display_data"
    }
   ],
   "source": [
    "def laplace_inv(y, miu, b):\n",
    "    return miu - b*np.sign(y - 0.5)*np.log(1 - 2*np.absolute(y - 0.5))\n",
    "\n",
    "vec = np.random.uniform(0, 1, 1000)\n",
    "samples = laplace_inv(vec, 0, 1) \n",
    "\n",
    "# plots\n",
    "xs = np.array(range(-700, 700))\n",
    "xs = xs * 0.01\n",
    "ys = laplace.pdf(xs)\n",
    "plt.hist(samples, 50, normed=True)\n",
    "plt.plot(xs, ys, 'r')\n",
    "plt.show()\n"
   ]
  },
  {
   "cell_type": "markdown",
   "metadata": {},
   "source": [
    "## Central Limit Theorem\n",
    "\n",
    "Suppose $\\{X_1, X_2, \\dots\\}$ is a sequence of i.i.d. random variables with \n",
    "\n",
    "$$\n",
    "\\mathbb{E}[X_i] = \\mu\n",
    "\\text{ and }\n",
    "\\mathrm{Var}[X_i] = \\sigma^2 < \\infty.\n",
    "$$\n",
    "\n",
    "Set $S_n = \\sqrt{n} (\\frac{1}{n} \\sum_{i=1}^n X_i - \\mu)$. The central limit theorem states that\n",
    "\n",
    "$$\n",
    "\\lim_{n\\to\\infty} S_n = \\mathcal{N}(0, \\sigma^2)\n",
    "$$\n",
    "\n",
    "where  $\\mathcal{N}(0, \\sigma^2) = \\frac{1}{\\sqrt{2\\pi \\sigma^2}} e^{\\frac{x^2}{2\\sigma^2}}$ is the normal distribution. \n",
    "\n",
    "### Goals (3)\n",
    "\n",
    "- Write a function generates $n$ samples $X_i$ from (a) the exponential distribution, (b) the Laplace distribution, and returns $S_n$. Note that you can look up the mean and variance of these distributions on Wikipedia. \n",
    "- Generate 1000 samples of the variables $S_n$ computed above, and create a histogram of the results. Compare this histogram to a plot of $\\mathcal{N}(0, \\sigma^2)$. "
   ]
  },
  {
   "cell_type": "code",
   "execution_count": 113,
   "metadata": {
    "collapsed": false
   },
   "outputs": [
    {
     "data": {
      "image/png": "[encoded data removed]",
      "text/plain": [
       "<matplotlib.figure.Figure at 0xd46e898>"
      ]
     },
     "metadata": {},
     "output_type": "display_data"
    }
   ],
   "source": [
    "def Sa(n):\n",
    "    vec = np.random.uniform(0, 1, 1000)\n",
    "    samples = expon_inv(vec, 1)\n",
    "    return (np.sum(samples)/n - 1)*(n**(0.5))\n",
    "\n",
    "def Sb(n):\n",
    "    vec = np.random.uniform(0, 1, 1000)\n",
    "    samples = laplace_inv(vec, 0, 1)\n",
    "    return (np.sum(samples)/n )*(n**(0.5))\n",
    "\n",
    "fig = plt.figure(figsize=(12, 5))\n",
    "\n",
    "ax1 = fig.add_subplot(1, 2, 1)\n",
    "samples = Sa(np.ones(1000)*1000)\n",
    "xs = np.array(range(-300, 300))\n",
    "xs = xs * 0.01\n",
    "ys = norm.pdf(xs)\n",
    "ax1.plot(xs, ys, 'r')\n",
    "ax1.hist(samples, 50, normed=True)\n",
    "\n",
    "ax2 = fig.add_subplot(1, 2, 2)\n",
    "samples = [Sb(i) for i in np.ones(1000)*1000]\n",
    "xs = np.array(range(-500, 500))\n",
    "xs = xs * 0.01\n",
    "ys = norm.pdf(xs, 0, 2*(0.5))\n",
    "ax2.plot(xs, ys, 'r')\n",
    "ax2.hist(samples, 50, normed=True)\n",
    "\n",
    "plt.show()\n",
    "\n",
    "\n"
   ]
  },
  {
   "cell_type": "markdown",
   "metadata": {},
   "source": [
    "## The Cauchy distribution\n",
    "\n",
    "Cauchy random variables are interesting because they do not have finite mean or variance. As a result, they don't satisfy the hypothesis of the central limit theorem. A random variable $X$ is Cauchy if it has probability density function\n",
    "\n",
    "$$\n",
    "f(x;x_0,\\gamma) = \\frac{1}{\\pi\\gamma} \\left[\\frac{\\gamma^2}{(x-x_0)^2 + \\gamma^2}\\right].\n",
    "$$\n",
    "\n",
    "The inverse of the Cauchy CDF is given by:\n",
    "\n",
    "$$\n",
    "F^{-1}(y;x_0,\\gamma) = x_0 + \\gamma \\tan \\left[\\pi\\left(y - \\frac{1}{2}\\right)\\right].\n",
    "$$\n",
    "\n",
    "### Goals (4):\n",
    "- Repeat the above steps to investigate how much a historgram of $S_n$ for a Cauchy variable differs from a plot of the normal distribution $\\mathcal{N}(0, 1)$. (Set $\\mu = 0$ in the formula for $S_n$). "
   ]
  },
  {
   "cell_type": "code",
   "execution_count": 116,
   "metadata": {
    "collapsed": false
   },
   "outputs": [
    {
     "data": {
      "image/png": "[encoded data removed]",
      "text/plain": [
       "<matplotlib.figure.Figure at 0xd9ca240>"
      ]
     },
     "metadata": {},
     "output_type": "display_data"
    }
   ],
   "source": [
    "def cauchy_inv(y, x0, r):\n",
    "    return x0 + float(r)*np.tan(np.pi*(y - 0.5))\n",
    "\n",
    "def Sc(n):\n",
    "    vec = np.random.uniform(0, 1, 1000)\n",
    "    samples = cauchy_inv(vec, 0, 1)\n",
    "    return (np.sum(samples)/n - 1)*(n**(0.5))\n",
    "\n",
    "\n",
    "\n",
    "samples = [Sc(i) for i in np.ones(1000)*1000]\n",
    "xs = np.array(range(-500, 500))\n",
    "xs = xs * 0.01\n",
    "ys = norm.pdf(xs, 0, 1)\n",
    "# plt.plot(xs, ys, 'r')\n",
    "plt.hist(samples, 50,normed=True)\n",
    "plt.show()\n"
   ]
  },
  {
   "cell_type": "code",
   "execution_count": null,
   "metadata": {
    "collapsed": true
   },
   "outputs": [],
   "source": []
  }
 ],
 "metadata": {
  "kernelspec": {
   "display_name": "Python 2",
   "language": "python",
   "name": "python2"
  },
  "language_info": {
   "codemirror_mode": {
    "name": "ipython",
    "version": 2
   },
   "file_extension": ".py",
   "mimetype": "text/x-python",
   "name": "python",
   "nbconvert_exporter": "python",
   "pygments_lexer": "ipython2",
   "version": "2.7.13"
  }
 },
 "nbformat": 4,
 "nbformat_minor": 2
}
