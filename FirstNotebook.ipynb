{
 "cells": [
  {
   "cell_type": "markdown",
   "metadata": {},
   "source": [
    "MAT245 Lab 2"
   ]
  },
  {
   "cell_type": "markdown",
   "metadata": {},
   "source": [
    "Markov Chain"
   ]
  },
  {
   "cell_type": "code",
   "execution_count": 4,
   "metadata": {
    "collapsed": false
   },
   "outputs": [
    {
     "name": "stdout",
     "output_type": "stream",
     "text": [
      "[ 0.46091253  0.33116175  0.20792572]\n",
      "[ 0.46116047  0.33093573  0.2079038 ]\n"
     ]
    }
   ],
   "source": [
    "import numpy as np\n",
    "\n",
    "n = 3\n",
    "m = 3\n",
    "\n",
    "P_unscaled = np.random.rand(n, m)\n",
    "row_sums = P_unscaled.sum(axis = 1).reshape(3,1)\n",
    "P = P_unscaled / row_sums\n",
    "\n",
    "\n",
    "X_0 = np.array([0.0, 1.0, 0.0])\n",
    "X_5 = X_0.dot(np.linalg.matrix_power(P, 5))\n",
    "X_7 = X_0.dot(np.linalg.matrix_power(P, 7))\n",
    "print X_5\n",
    "print X_7\n"
   ]
  },
  {
   "cell_type": "markdown",
   "metadata": {},
   "source": [
    "2D Norms"
   ]
  },
  {
   "cell_type": "code",
   "execution_count": 5,
   "metadata": {
    "collapsed": false
   },
   "outputs": [
    {
     "data": {
      "image/png": "[encoded data removed]",
      "text/plain": [
       "<matplotlib.figure.Figure at 0x856e5c0>"
      ]
     },
     "metadata": {},
     "output_type": "display_data"
    }
   ],
   "source": [
    "import matplotlib.pyplot as plt\n",
    "import numpy as np\n",
    "\n",
    "def pwr(n, p):\n",
    "  return n ** p\n",
    "\n",
    "def p_norm(point, p):\n",
    "  return abs(pwr (abs(pwr(point[0], float(p))) + abs(pwr(point[1], float(p))),  1.0/float(p)))\n",
    "\n",
    "def compare_by_x(x, y):\n",
    "  if x[0] < y[0]:\n",
    "    return 1\n",
    "  elif x[0] > y[0]:\n",
    "    return -1\n",
    "  else: \n",
    "    return 0\n",
    "\n",
    "def saparateForPlotting(datapoints, p):\n",
    "  # scaling\n",
    "  P = P_unscaled / np.array( map( lambda list : p_norm(list, p),  P_unscaled )).reshape(m, 1)\n",
    "  P_Top = filter(lambda x : x[1] > 0, P)\n",
    "  P_Down = filter(lambda x : x[1] < 0, P)\n",
    "  P_Top = sorted(P_Top, compare_by_x)\n",
    "  P_Down = sorted(P_Down, compare_by_x, reverse = True)\n",
    "  P = P_Top + P_Down\n",
    "  Ptranspose = np.transpose(P)\n",
    "  return Ptranspose.copy()\n",
    "\n",
    "#number of sampling\n",
    "m = 1000\n",
    "#sample in a square around origin\n",
    "P_unscaled = np.random.rand(m, 2) - 0.5\n",
    "\n",
    "\n",
    "p_norms = [1, 2, 3, 5, 10]\n",
    "\n",
    "plt.figure(1)\n",
    "\n",
    "for i in p_norms:\n",
    "  j = p_norms.index(i)\n",
    "  plt.subplot(321 + j)\n",
    "  P = saparateForPlotting(P_unscaled, i)\n",
    "  plt.plot(P[0], P[1])\n",
    "  plt.gca().set_aspect('equal', adjustable='box')\n",
    "\n",
    "\n",
    "plt.show()\n"
   ]
  },
  {
   "cell_type": "code",
   "execution_count": null,
   "metadata": {
    "collapsed": true
   },
   "outputs": [],
   "source": []
  }
 ],
 "metadata": {
  "kernelspec": {
   "display_name": "Python 2",
   "language": "python",
   "name": "python2"
  },
  "language_info": {
   "codemirror_mode": {
    "name": "ipython",
    "version": 2
   },
   "file_extension": ".py",
   "mimetype": "text/x-python",
   "name": "python",
   "nbconvert_exporter": "python",
   "pygments_lexer": "ipython2",
   "version": "2.7.13"
  }
 },
 "nbformat": 4,
 "nbformat_minor": 2
}
